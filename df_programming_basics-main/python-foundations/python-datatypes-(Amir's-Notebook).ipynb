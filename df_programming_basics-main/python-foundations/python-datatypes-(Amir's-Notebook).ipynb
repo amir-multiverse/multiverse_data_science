{
 "cells": [
  {
   "cell_type": "markdown",
   "id": "49f3c7f4",
   "metadata": {},
   "source": [
    "# Variables"
   ]
  },
  {
   "cell_type": "code",
   "execution_count": 4,
   "id": "af767ba4",
   "metadata": {},
   "outputs": [],
   "source": [
    "x = (1, 2 ,3 ,4)"
   ]
  },
  {
   "cell_type": "code",
   "execution_count": 5,
   "id": "f92f4b79",
   "metadata": {},
   "outputs": [
    {
     "name": "stdout",
     "output_type": "stream",
     "text": [
      "(1, 2, 3, 4)\n"
     ]
    }
   ],
   "source": [
    "print(x)"
   ]
  },
  {
   "cell_type": "code",
   "execution_count": 3,
   "id": "531bbed1",
   "metadata": {},
   "outputs": [
    {
     "ename": "SyntaxError",
     "evalue": "cannot assign to literal (<ipython-input-3-92901522633b>, line 1)",
     "output_type": "error",
     "traceback": [
      "\u001b[1;36m  File \u001b[1;32m\"<ipython-input-3-92901522633b>\"\u001b[1;36m, line \u001b[1;32m1\u001b[0m\n\u001b[1;33m    2 = (1, 2, 3, 4)\u001b[0m\n\u001b[1;37m    ^\u001b[0m\n\u001b[1;31mSyntaxError\u001b[0m\u001b[1;31m:\u001b[0m cannot assign to literal\n"
     ]
    }
   ],
   "source": [
    "2 = (1, 2, 3, 4)"
   ]
  },
  {
   "cell_type": "code",
   "execution_count": null,
   "id": "df2c0d88",
   "metadata": {},
   "outputs": [],
   "source": [
    "True False true false"
   ]
  },
  {
   "cell_type": "code",
   "execution_count": 6,
   "id": "f4bad35b",
   "metadata": {},
   "outputs": [
    {
     "ename": "SyntaxError",
     "evalue": "cannot assign to True (<ipython-input-6-bf2c13f59acb>, line 1)",
     "output_type": "error",
     "traceback": [
      "\u001b[1;36m  File \u001b[1;32m\"<ipython-input-6-bf2c13f59acb>\"\u001b[1;36m, line \u001b[1;32m1\u001b[0m\n\u001b[1;33m    True = (1, 2, 3, 4)\u001b[0m\n\u001b[1;37m    ^\u001b[0m\n\u001b[1;31mSyntaxError\u001b[0m\u001b[1;31m:\u001b[0m cannot assign to True\n"
     ]
    }
   ],
   "source": [
    "True = (1, 2, 3, 4)"
   ]
  },
  {
   "cell_type": "code",
   "execution_count": 7,
   "id": "ce0440ee",
   "metadata": {},
   "outputs": [],
   "source": [
    "true = (1, 2, 3, 4)"
   ]
  },
  {
   "cell_type": "code",
   "execution_count": 8,
   "id": "ce13f60a",
   "metadata": {},
   "outputs": [
    {
     "name": "stdout",
     "output_type": "stream",
     "text": [
      "(1, 2, 3, 4)\n"
     ]
    }
   ],
   "source": [
    "print(true)"
   ]
  },
  {
   "cell_type": "code",
   "execution_count": 10,
   "id": "7c2141b2",
   "metadata": {},
   "outputs": [],
   "source": [
    "true_name = 1, 2, 3, 4"
   ]
  },
  {
   "cell_type": "markdown",
   "id": "f8b3e337",
   "metadata": {},
   "source": [
    "# Mathematical Operators"
   ]
  },
  {
   "cell_type": "code",
   "execution_count": 11,
   "id": "8d50ebfb",
   "metadata": {},
   "outputs": [
    {
     "data": {
      "text/plain": [
       "1"
      ]
     },
     "execution_count": 11,
     "metadata": {},
     "output_type": "execute_result"
    }
   ],
   "source": [
    "3-2"
   ]
  },
  {
   "cell_type": "code",
   "execution_count": 15,
   "id": "7a4d2225",
   "metadata": {},
   "outputs": [
    {
     "data": {
      "text/plain": [
       "6"
      ]
     },
     "execution_count": 15,
     "metadata": {},
     "output_type": "execute_result"
    }
   ],
   "source": [
    "3*2"
   ]
  },
  {
   "cell_type": "code",
   "execution_count": 16,
   "id": "4dcc2059",
   "metadata": {},
   "outputs": [
    {
     "data": {
      "text/plain": [
       "3.0"
      ]
     },
     "execution_count": 16,
     "metadata": {},
     "output_type": "execute_result"
    }
   ],
   "source": [
    "6/2"
   ]
  },
  {
   "cell_type": "code",
   "execution_count": 17,
   "id": "86951aaf",
   "metadata": {},
   "outputs": [
    {
     "data": {
      "text/plain": [
       "9"
      ]
     },
     "execution_count": 17,
     "metadata": {},
     "output_type": "execute_result"
    }
   ],
   "source": [
    "3**2"
   ]
  },
  {
   "cell_type": "code",
   "execution_count": 18,
   "id": "88d23eba",
   "metadata": {},
   "outputs": [
    {
     "data": {
      "text/plain": [
       "4"
      ]
     },
     "execution_count": 18,
     "metadata": {},
     "output_type": "execute_result"
    }
   ],
   "source": [
    "round(3.5)"
   ]
  },
  {
   "cell_type": "code",
   "execution_count": 19,
   "id": "9365e303",
   "metadata": {},
   "outputs": [],
   "source": [
    "x = 7/2"
   ]
  },
  {
   "cell_type": "code",
   "execution_count": 20,
   "id": "71ef99aa",
   "metadata": {},
   "outputs": [
    {
     "name": "stdout",
     "output_type": "stream",
     "text": [
      "3.5\n"
     ]
    }
   ],
   "source": [
    "print(x)"
   ]
  },
  {
   "cell_type": "code",
   "execution_count": 21,
   "id": "af154476",
   "metadata": {},
   "outputs": [
    {
     "data": {
      "text/plain": [
       "4"
      ]
     },
     "execution_count": 21,
     "metadata": {},
     "output_type": "execute_result"
    }
   ],
   "source": [
    "round(x)"
   ]
  },
  {
   "cell_type": "code",
   "execution_count": 22,
   "id": "293e68e1",
   "metadata": {},
   "outputs": [
    {
     "data": {
      "text/plain": [
       "4"
      ]
     },
     "execution_count": 22,
     "metadata": {},
     "output_type": "execute_result"
    }
   ],
   "source": [
    "round(7/2)"
   ]
  },
  {
   "cell_type": "code",
   "execution_count": 23,
   "id": "c13d6ea0",
   "metadata": {},
   "outputs": [
    {
     "data": {
      "text/plain": [
       "1"
      ]
     },
     "execution_count": 23,
     "metadata": {},
     "output_type": "execute_result"
    }
   ],
   "source": [
    "5%2"
   ]
  },
  {
   "cell_type": "markdown",
   "id": "469bebe3",
   "metadata": {},
   "source": [
    "# Comparison Operators"
   ]
  },
  {
   "cell_type": "code",
   "execution_count": 35,
   "id": "2e2662e5",
   "metadata": {},
   "outputs": [],
   "source": [
    "x = 2"
   ]
  },
  {
   "cell_type": "code",
   "execution_count": 36,
   "id": "8b091565",
   "metadata": {},
   "outputs": [
    {
     "name": "stdout",
     "output_type": "stream",
     "text": [
      "2\n"
     ]
    }
   ],
   "source": [
    "print(x)"
   ]
  },
  {
   "cell_type": "code",
   "execution_count": 45,
   "id": "3a208d32",
   "metadata": {},
   "outputs": [
    {
     "data": {
      "text/plain": [
       "True"
      ]
     },
     "execution_count": 45,
     "metadata": {},
     "output_type": "execute_result"
    }
   ],
   "source": [
    "x == 2"
   ]
  },
  {
   "cell_type": "code",
   "execution_count": 38,
   "id": "5eb40e17",
   "metadata": {},
   "outputs": [
    {
     "data": {
      "text/plain": [
       "True"
      ]
     },
     "execution_count": 38,
     "metadata": {},
     "output_type": "execute_result"
    }
   ],
   "source": [
    "2 > 1"
   ]
  },
  {
   "cell_type": "code",
   "execution_count": 39,
   "id": "eb9aa27f",
   "metadata": {},
   "outputs": [
    {
     "data": {
      "text/plain": [
       "False"
      ]
     },
     "execution_count": 39,
     "metadata": {},
     "output_type": "execute_result"
    }
   ],
   "source": [
    "x != 2"
   ]
  },
  {
   "cell_type": "code",
   "execution_count": 40,
   "id": "4393c34e",
   "metadata": {},
   "outputs": [
    {
     "data": {
      "text/plain": [
       "False"
      ]
     },
     "execution_count": 40,
     "metadata": {},
     "output_type": "execute_result"
    }
   ],
   "source": [
    "True == False"
   ]
  },
  {
   "cell_type": "code",
   "execution_count": 41,
   "id": "80ebf546",
   "metadata": {},
   "outputs": [
    {
     "data": {
      "text/plain": [
       "True"
      ]
     },
     "execution_count": 41,
     "metadata": {},
     "output_type": "execute_result"
    }
   ],
   "source": [
    "True == True"
   ]
  },
  {
   "cell_type": "code",
   "execution_count": 42,
   "id": "7522dad3",
   "metadata": {},
   "outputs": [
    {
     "data": {
      "text/plain": [
       "False"
      ]
     },
     "execution_count": 42,
     "metadata": {},
     "output_type": "execute_result"
    }
   ],
   "source": [
    "True < False"
   ]
  },
  {
   "cell_type": "code",
   "execution_count": 43,
   "id": "fe943180",
   "metadata": {},
   "outputs": [
    {
     "data": {
      "text/plain": [
       "True"
      ]
     },
     "execution_count": 43,
     "metadata": {},
     "output_type": "execute_result"
    }
   ],
   "source": [
    "True > False"
   ]
  },
  {
   "cell_type": "code",
   "execution_count": 46,
   "id": "1cc46145",
   "metadata": {},
   "outputs": [],
   "source": [
    "# True (1) and False (0)"
   ]
  },
  {
   "cell_type": "markdown",
   "id": "9db78656",
   "metadata": {},
   "source": [
    "# Strings"
   ]
  },
  {
   "cell_type": "code",
   "execution_count": 47,
   "id": "432b625e",
   "metadata": {},
   "outputs": [
    {
     "ename": "SyntaxError",
     "evalue": "invalid syntax (<ipython-input-47-8690d0eedd72>, line 1)",
     "output_type": "error",
     "traceback": [
      "\u001b[1;36m  File \u001b[1;32m\"<ipython-input-47-8690d0eedd72>\"\u001b[1;36m, line \u001b[1;32m1\u001b[0m\n\u001b[1;33m    y = 'Hello Amir's World'\u001b[0m\n\u001b[1;37m                    ^\u001b[0m\n\u001b[1;31mSyntaxError\u001b[0m\u001b[1;31m:\u001b[0m invalid syntax\n"
     ]
    }
   ],
   "source": [
    "y = 'Hello Amir's World'"
   ]
  },
  {
   "cell_type": "code",
   "execution_count": 48,
   "id": "a43e93e3",
   "metadata": {},
   "outputs": [],
   "source": [
    "y = \"Hello Amir's World\""
   ]
  },
  {
   "cell_type": "code",
   "execution_count": 49,
   "id": "0f2f9e0f",
   "metadata": {},
   "outputs": [
    {
     "name": "stdout",
     "output_type": "stream",
     "text": [
      "Hello Amir's World\n"
     ]
    }
   ],
   "source": [
    "print(y)"
   ]
  },
  {
   "cell_type": "code",
   "execution_count": 50,
   "id": "8d9a9d9b",
   "metadata": {},
   "outputs": [
    {
     "data": {
      "text/plain": [
       "'Hello World'"
      ]
     },
     "execution_count": 50,
     "metadata": {},
     "output_type": "execute_result"
    }
   ],
   "source": [
    "\"Hello World\""
   ]
  },
  {
   "cell_type": "code",
   "execution_count": 52,
   "id": "bd98ada7",
   "metadata": {},
   "outputs": [
    {
     "data": {
      "text/plain": [
       "1"
      ]
     },
     "execution_count": 52,
     "metadata": {},
     "output_type": "execute_result"
    }
   ],
   "source": [
    "1"
   ]
  },
  {
   "cell_type": "code",
   "execution_count": 53,
   "id": "ac907179",
   "metadata": {},
   "outputs": [
    {
     "data": {
      "text/plain": [
       "(1, 2, 3, 4)"
      ]
     },
     "execution_count": 53,
     "metadata": {},
     "output_type": "execute_result"
    }
   ],
   "source": [
    "(1, 2, 3, 4)"
   ]
  },
  {
   "cell_type": "code",
   "execution_count": 54,
   "id": "029d93c0",
   "metadata": {},
   "outputs": [
    {
     "data": {
      "text/plain": [
       "\"Hello Amir's World\""
      ]
     },
     "execution_count": 54,
     "metadata": {},
     "output_type": "execute_result"
    }
   ],
   "source": [
    "y"
   ]
  },
  {
   "cell_type": "code",
   "execution_count": 57,
   "id": "303dc6bc",
   "metadata": {},
   "outputs": [
    {
     "name": "stdout",
     "output_type": "stream",
     "text": [
      "Hello Amir's World\n"
     ]
    }
   ],
   "source": [
    "print(y)"
   ]
  },
  {
   "cell_type": "code",
   "execution_count": 58,
   "id": "9d857ba1",
   "metadata": {},
   "outputs": [
    {
     "data": {
      "text/plain": [
       "str"
      ]
     },
     "execution_count": 58,
     "metadata": {},
     "output_type": "execute_result"
    }
   ],
   "source": [
    "# The command to check a data type?\n",
    "type(y)"
   ]
  },
  {
   "cell_type": "code",
   "execution_count": 59,
   "id": "7ad376f9",
   "metadata": {},
   "outputs": [],
   "source": [
    "a = 1\n",
    "b = 2.6\n",
    "c = [1, 2, 3, 4, 5, 6]\n",
    "d = {\"Markowska\" : \"K\", \"Said\" : \"A\"} # curly brackets good indicator you have a dictionary\n",
    "e = (\"one\", \"two\", \"three\")\n",
    "f = {1:{\"key\":\"value\"}, 2:{\"key2\":\"value2\"}}\n",
    "g = True\n",
    "h = False\n",
    "i = 'integer'"
   ]
  },
  {
   "cell_type": "code",
   "execution_count": 65,
   "id": "841ef7b9",
   "metadata": {},
   "outputs": [
    {
     "data": {
      "text/plain": [
       "int"
      ]
     },
     "execution_count": 65,
     "metadata": {},
     "output_type": "execute_result"
    }
   ],
   "source": [
    "type(a)"
   ]
  },
  {
   "cell_type": "code",
   "execution_count": 61,
   "id": "37580f07",
   "metadata": {},
   "outputs": [
    {
     "data": {
      "text/plain": [
       "dict"
      ]
     },
     "execution_count": 61,
     "metadata": {},
     "output_type": "execute_result"
    }
   ],
   "source": [
    "type(b)"
   ]
  },
  {
   "cell_type": "code",
   "execution_count": 62,
   "id": "bbdc6f69",
   "metadata": {},
   "outputs": [
    {
     "data": {
      "text/plain": [
       "str"
      ]
     },
     "execution_count": 62,
     "metadata": {},
     "output_type": "execute_result"
    }
   ],
   "source": [
    "type(c)"
   ]
  },
  {
   "cell_type": "code",
   "execution_count": 66,
   "id": "8af3143b",
   "metadata": {},
   "outputs": [
    {
     "data": {
      "text/plain": [
       "dict"
      ]
     },
     "execution_count": 66,
     "metadata": {},
     "output_type": "execute_result"
    }
   ],
   "source": [
    "type(d)"
   ]
  },
  {
   "cell_type": "code",
   "execution_count": 67,
   "id": "060f702e",
   "metadata": {},
   "outputs": [
    {
     "data": {
      "text/plain": [
       "tuple"
      ]
     },
     "execution_count": 67,
     "metadata": {},
     "output_type": "execute_result"
    }
   ],
   "source": [
    "type(e)"
   ]
  },
  {
   "cell_type": "code",
   "execution_count": 68,
   "id": "12da7668",
   "metadata": {},
   "outputs": [
    {
     "data": {
      "text/plain": [
       "dict"
      ]
     },
     "execution_count": 68,
     "metadata": {},
     "output_type": "execute_result"
    }
   ],
   "source": [
    "type(f)"
   ]
  },
  {
   "cell_type": "code",
   "execution_count": 69,
   "id": "87f7e09a",
   "metadata": {},
   "outputs": [
    {
     "data": {
      "text/plain": [
       "bool"
      ]
     },
     "execution_count": 69,
     "metadata": {},
     "output_type": "execute_result"
    }
   ],
   "source": [
    "type(g)"
   ]
  },
  {
   "cell_type": "code",
   "execution_count": 70,
   "id": "820b951f",
   "metadata": {},
   "outputs": [
    {
     "data": {
      "text/plain": [
       "bool"
      ]
     },
     "execution_count": 70,
     "metadata": {},
     "output_type": "execute_result"
    }
   ],
   "source": [
    "type(h)"
   ]
  },
  {
   "cell_type": "code",
   "execution_count": 73,
   "id": "9058e175",
   "metadata": {},
   "outputs": [
    {
     "data": {
      "text/plain": [
       "str"
      ]
     },
     "execution_count": 73,
     "metadata": {},
     "output_type": "execute_result"
    }
   ],
   "source": [
    "type(i)"
   ]
  },
  {
   "cell_type": "markdown",
   "id": "79bf4eac",
   "metadata": {},
   "source": [
    "## Length Function:"
   ]
  },
  {
   "cell_type": "code",
   "execution_count": 74,
   "id": "2cf0b097",
   "metadata": {},
   "outputs": [],
   "source": [
    "s = \"Hello World\""
   ]
  },
  {
   "cell_type": "code",
   "execution_count": 75,
   "id": "f0991584",
   "metadata": {},
   "outputs": [
    {
     "data": {
      "text/plain": [
       "'Hello World'"
      ]
     },
     "execution_count": 75,
     "metadata": {},
     "output_type": "execute_result"
    }
   ],
   "source": [
    "s"
   ]
  },
  {
   "cell_type": "code",
   "execution_count": 76,
   "id": "d5145326",
   "metadata": {},
   "outputs": [
    {
     "name": "stdout",
     "output_type": "stream",
     "text": [
      "Hello World\n"
     ]
    }
   ],
   "source": [
    "print(s)"
   ]
  },
  {
   "cell_type": "code",
   "execution_count": 77,
   "id": "fcf5bfc2",
   "metadata": {},
   "outputs": [
    {
     "data": {
      "text/plain": [
       "11"
      ]
     },
     "execution_count": 77,
     "metadata": {},
     "output_type": "execute_result"
    }
   ],
   "source": [
    "# Return the length (no of characters) in a string\n",
    "\n",
    "len(s)"
   ]
  },
  {
   "cell_type": "code",
   "execution_count": 78,
   "id": "9f2f1318",
   "metadata": {},
   "outputs": [],
   "source": [
    "# Replace parts of a string with .replace()\n",
    "\n",
    "s2 = s.replace(\"World\", \"People\")"
   ]
  },
  {
   "cell_type": "code",
   "execution_count": 79,
   "id": "7dfae07e",
   "metadata": {},
   "outputs": [
    {
     "name": "stdout",
     "output_type": "stream",
     "text": [
      "Hello People\n"
     ]
    }
   ],
   "source": [
    "print(s2)"
   ]
  },
  {
   "cell_type": "markdown",
   "id": "c54eb964",
   "metadata": {},
   "source": [
    "## String Indexing:"
   ]
  },
  {
   "cell_type": "code",
   "execution_count": 80,
   "id": "ac9d3986",
   "metadata": {},
   "outputs": [
    {
     "data": {
      "text/plain": [
       "'H'"
      ]
     },
     "execution_count": 80,
     "metadata": {},
     "output_type": "execute_result"
    }
   ],
   "source": [
    "s[0]"
   ]
  },
  {
   "cell_type": "code",
   "execution_count": 85,
   "id": "de77d648",
   "metadata": {},
   "outputs": [
    {
     "ename": "IndexError",
     "evalue": "string index out of range",
     "output_type": "error",
     "traceback": [
      "\u001b[1;31m---------------------------------------------------------------------------\u001b[0m",
      "\u001b[1;31mIndexError\u001b[0m                                Traceback (most recent call last)",
      "\u001b[1;32m<ipython-input-85-665bb6993e1f>\u001b[0m in \u001b[0;36m<module>\u001b[1;34m\u001b[0m\n\u001b[1;32m----> 1\u001b[1;33m \u001b[0ms\u001b[0m\u001b[1;33m[\u001b[0m\u001b[1;36m11\u001b[0m\u001b[1;33m]\u001b[0m\u001b[1;33m\u001b[0m\u001b[1;33m\u001b[0m\u001b[0m\n\u001b[0m",
      "\u001b[1;31mIndexError\u001b[0m: string index out of range"
     ]
    }
   ],
   "source": [
    "s[11]"
   ]
  },
  {
   "cell_type": "code",
   "execution_count": 86,
   "id": "878104d4",
   "metadata": {},
   "outputs": [
    {
     "data": {
      "text/plain": [
       "' '"
      ]
     },
     "execution_count": 86,
     "metadata": {},
     "output_type": "execute_result"
    }
   ],
   "source": [
    "s[5]"
   ]
  },
  {
   "cell_type": "code",
   "execution_count": 94,
   "id": "63f25e15",
   "metadata": {},
   "outputs": [
    {
     "data": {
      "text/plain": [
       "'Hell'"
      ]
     },
     "execution_count": 94,
     "metadata": {},
     "output_type": "execute_result"
    }
   ],
   "source": [
    "# SLICING\n",
    "\n",
    "s[0:4]\n",
    "\n",
    "# Shows everything from index position 0 up to and BEFORE index position 4 - so returns 'Hell'."
   ]
  },
  {
   "cell_type": "code",
   "execution_count": 92,
   "id": "4aefb20c",
   "metadata": {},
   "outputs": [
    {
     "data": {
      "text/plain": [
       "'World'"
      ]
     },
     "execution_count": 92,
     "metadata": {},
     "output_type": "execute_result"
    }
   ],
   "source": [
    "s[6:]\n",
    "\n",
    "# Returns everything from the sixth character (which is in index position 7) onwards in a string."
   ]
  },
  {
   "cell_type": "code",
   "execution_count": 93,
   "id": "60470933",
   "metadata": {},
   "outputs": [
    {
     "data": {
      "text/plain": [
       "'Hello World'"
      ]
     },
     "execution_count": 93,
     "metadata": {},
     "output_type": "execute_result"
    }
   ],
   "source": [
    "s[:]\n",
    "\n",
    "# Returns everything!"
   ]
  },
  {
   "cell_type": "code",
   "execution_count": 96,
   "id": "7bc4513e",
   "metadata": {},
   "outputs": [
    {
     "data": {
      "text/plain": [
       "'d'"
      ]
     },
     "execution_count": 96,
     "metadata": {},
     "output_type": "execute_result"
    }
   ],
   "source": [
    "s[-1]\n",
    "\n",
    "# Returning characters from the end of a string, use minus values!"
   ]
  },
  {
   "cell_type": "code",
   "execution_count": 98,
   "id": "a748e7dd",
   "metadata": {},
   "outputs": [
    {
     "data": {
      "text/plain": [
       "'HloWr'"
      ]
     },
     "execution_count": 98,
     "metadata": {},
     "output_type": "execute_result"
    }
   ],
   "source": [
    "s[0:10:2]\n",
    "\n",
    "# Takes everything from the start (index position 0), goes up to the 10th index position, but for every 2nd character."
   ]
  },
  {
   "cell_type": "code",
   "execution_count": 102,
   "id": "59b11ae1",
   "metadata": {},
   "outputs": [
    {
     "data": {
      "text/plain": [
       "[0, 2, 4, 6]"
      ]
     },
     "execution_count": 102,
     "metadata": {},
     "output_type": "execute_result"
    }
   ],
   "source": [
    "# Indexing a LIST:\n",
    "\n",
    "[0, 1, 2, 3, 4, 5, 6,][::2]\n",
    "\n",
    "# Indexing different data types besides strings"
   ]
  },
  {
   "cell_type": "code",
   "execution_count": 101,
   "id": "8149f226",
   "metadata": {},
   "outputs": [
    {
     "data": {
      "text/plain": [
       "[6, 4, 2, 0]"
      ]
     },
     "execution_count": 101,
     "metadata": {},
     "output_type": "execute_result"
    }
   ],
   "source": [
    "[0, 1, 2, 3, 4, 5, 6,][::-2]"
   ]
  },
  {
   "cell_type": "markdown",
   "id": "a4c51780",
   "metadata": {},
   "source": [
    "## Concatenating"
   ]
  },
  {
   "cell_type": "code",
   "execution_count": 108,
   "id": "d1e48c04",
   "metadata": {},
   "outputs": [
    {
     "name": "stdout",
     "output_type": "stream",
     "text": [
      "Hello World\n"
     ]
    }
   ],
   "source": [
    "x = \"Hello\"\n",
    "y = \"World\"\n",
    "\n",
    "print(x, y)"
   ]
  },
  {
   "cell_type": "code",
   "execution_count": 109,
   "id": "89e5c818",
   "metadata": {},
   "outputs": [
    {
     "data": {
      "text/plain": [
       "'HelloWorld'"
      ]
     },
     "execution_count": 109,
     "metadata": {},
     "output_type": "execute_result"
    }
   ],
   "source": [
    "x + y"
   ]
  },
  {
   "cell_type": "code",
   "execution_count": 110,
   "id": "4878d647",
   "metadata": {},
   "outputs": [
    {
     "data": {
      "text/plain": [
       "'Hello World'"
      ]
     },
     "execution_count": 110,
     "metadata": {},
     "output_type": "execute_result"
    }
   ],
   "source": [
    "x + \" \" + y"
   ]
  },
  {
   "cell_type": "code",
   "execution_count": 111,
   "id": "7dc1f5b7",
   "metadata": {},
   "outputs": [],
   "source": [
    "space = \" \""
   ]
  },
  {
   "cell_type": "code",
   "execution_count": 112,
   "id": "d92935d2",
   "metadata": {},
   "outputs": [
    {
     "data": {
      "text/plain": [
       "'Hello World'"
      ]
     },
     "execution_count": 112,
     "metadata": {},
     "output_type": "execute_result"
    }
   ],
   "source": [
    "x + space + y"
   ]
  },
  {
   "cell_type": "code",
   "execution_count": 115,
   "id": "b7dd352b",
   "metadata": {},
   "outputs": [],
   "source": [
    "# Concatenating integer by converting into a string\n",
    "\n",
    "dice_roll = 3"
   ]
  },
  {
   "cell_type": "code",
   "execution_count": 117,
   "id": "d3552e5e",
   "metadata": {},
   "outputs": [
    {
     "data": {
      "text/plain": [
       "int"
      ]
     },
     "execution_count": 117,
     "metadata": {},
     "output_type": "execute_result"
    }
   ],
   "source": [
    "type(dice_roll)"
   ]
  },
  {
   "cell_type": "code",
   "execution_count": 121,
   "id": "d1e1e4fe",
   "metadata": {},
   "outputs": [
    {
     "ename": "TypeError",
     "evalue": "can only concatenate str (not \"int\") to str",
     "output_type": "error",
     "traceback": [
      "\u001b[1;31m---------------------------------------------------------------------------\u001b[0m",
      "\u001b[1;31mTypeError\u001b[0m                                 Traceback (most recent call last)",
      "\u001b[1;32m<ipython-input-121-399e5b1f51d9>\u001b[0m in \u001b[0;36m<module>\u001b[1;34m\u001b[0m\n\u001b[1;32m----> 1\u001b[1;33m \u001b[0mprint\u001b[0m\u001b[1;33m(\u001b[0m\u001b[1;34m\"You rolled a\"\u001b[0m \u001b[1;33m+\u001b[0m \u001b[0mdice_roll\u001b[0m \u001b[1;33m+\u001b[0m \u001b[1;34m\".\"\u001b[0m\u001b[1;33m)\u001b[0m\u001b[1;33m\u001b[0m\u001b[1;33m\u001b[0m\u001b[0m\n\u001b[0m",
      "\u001b[1;31mTypeError\u001b[0m: can only concatenate str (not \"int\") to str"
     ]
    }
   ],
   "source": [
    "print(\"You rolled a\" + dice_roll + \".\")"
   ]
  },
  {
   "cell_type": "code",
   "execution_count": 123,
   "id": "107b6e42",
   "metadata": {},
   "outputs": [
    {
     "name": "stdout",
     "output_type": "stream",
     "text": [
      "You rolled a 3.\n"
     ]
    }
   ],
   "source": [
    "print(\"You rolled a \" + str(dice_roll) + \".\")"
   ]
  },
  {
   "cell_type": "code",
   "execution_count": 129,
   "id": "91ab8aa0",
   "metadata": {},
   "outputs": [
    {
     "name": "stdout",
     "output_type": "stream",
     "text": [
      "You rolled a 3.\n"
     ]
    }
   ],
   "source": [
    "print(\"You rolled a\", str(dice_roll) + \".\") # <-- could mix , and + too!"
   ]
  },
  {
   "cell_type": "markdown",
   "id": "fa385f57",
   "metadata": {},
   "source": [
    "# Lists"
   ]
  },
  {
   "cell_type": "code",
   "execution_count": 130,
   "id": "66936be0",
   "metadata": {},
   "outputs": [
    {
     "name": "stdout",
     "output_type": "stream",
     "text": [
      "[1, 2, 3, 4]\n"
     ]
    }
   ],
   "source": [
    "l = [1,2,3,4]\n",
    "print(l)"
   ]
  },
  {
   "cell_type": "code",
   "execution_count": 131,
   "id": "1ed61550",
   "metadata": {},
   "outputs": [
    {
     "data": {
      "text/plain": [
       "list"
      ]
     },
     "execution_count": 131,
     "metadata": {},
     "output_type": "execute_result"
    }
   ],
   "source": [
    "type(l)"
   ]
  },
  {
   "cell_type": "code",
   "execution_count": 134,
   "id": "a32601dd",
   "metadata": {},
   "outputs": [],
   "source": [
    "a = l"
   ]
  },
  {
   "cell_type": "code",
   "execution_count": 135,
   "id": "4566c057",
   "metadata": {},
   "outputs": [
    {
     "name": "stdout",
     "output_type": "stream",
     "text": [
      "[1, 2, 3, 4]\n"
     ]
    }
   ],
   "source": [
    "print(a)"
   ]
  },
  {
   "cell_type": "code",
   "execution_count": 136,
   "id": "5d5a04af",
   "metadata": {},
   "outputs": [
    {
     "data": {
      "text/plain": [
       "list"
      ]
     },
     "execution_count": 136,
     "metadata": {},
     "output_type": "execute_result"
    }
   ],
   "source": [
    "type(a)"
   ]
  },
  {
   "cell_type": "code",
   "execution_count": 139,
   "id": "d846206a",
   "metadata": {},
   "outputs": [],
   "source": [
    "names = [\"Hagrid\", \"Ron\", \"Voldermort\"]"
   ]
  },
  {
   "cell_type": "code",
   "execution_count": 140,
   "id": "4b134b19",
   "metadata": {},
   "outputs": [
    {
     "name": "stdout",
     "output_type": "stream",
     "text": [
      "['Hagrid', 'Ron', 'Voldermort']\n"
     ]
    }
   ],
   "source": [
    "print(names)"
   ]
  },
  {
   "cell_type": "code",
   "execution_count": 143,
   "id": "1b0980d5",
   "metadata": {},
   "outputs": [
    {
     "name": "stdout",
     "output_type": "stream",
     "text": [
      "['Hagrid', 'Ron', 'Voldermort', 'Hermione', 'Hermione', 'Hermione']\n"
     ]
    }
   ],
   "source": [
    "# .append()\n",
    "\n",
    "names.append(\"Hermione\")\n",
    "\n",
    "print(names)"
   ]
  },
  {
   "cell_type": "code",
   "execution_count": 145,
   "id": "904511c1",
   "metadata": {},
   "outputs": [
    {
     "name": "stdout",
     "output_type": "stream",
     "text": [
      "['Hagrid', 'Ron', 'Voldermort', 'Hermione']\n"
     ]
    }
   ],
   "source": [
    "names.remove(\"Hermione\")\n",
    "print(names)"
   ]
  },
  {
   "cell_type": "code",
   "execution_count": 149,
   "id": "983fc355",
   "metadata": {},
   "outputs": [
    {
     "name": "stdout",
     "output_type": "stream",
     "text": [
      "['Ron', 'Voldermort']\n"
     ]
    }
   ],
   "source": [
    "print(names[1:3])"
   ]
  },
  {
   "cell_type": "code",
   "execution_count": 150,
   "id": "2944fbba",
   "metadata": {},
   "outputs": [
    {
     "data": {
      "text/plain": [
       "'nnie'"
      ]
     },
     "execution_count": 150,
     "metadata": {},
     "output_type": "execute_result"
    }
   ],
   "source": [
    "[\"Carol\", \"Annie\", \"Jessica\", \"Michelle\"][1][1:]"
   ]
  },
  {
   "cell_type": "code",
   "execution_count": 155,
   "id": "d907ce37",
   "metadata": {},
   "outputs": [],
   "source": [
    "l = [1, \"a\", 1.0, 1+5]"
   ]
  },
  {
   "cell_type": "code",
   "execution_count": 156,
   "id": "be48c4c1",
   "metadata": {},
   "outputs": [
    {
     "name": "stdout",
     "output_type": "stream",
     "text": [
      "[1, 'a', 1.0, 6]\n"
     ]
    }
   ],
   "source": [
    "print(l)"
   ]
  },
  {
   "cell_type": "code",
   "execution_count": 157,
   "id": "dfc36f6f",
   "metadata": {},
   "outputs": [
    {
     "data": {
      "text/plain": [
       "range(10, 30, 2)"
      ]
     },
     "execution_count": 157,
     "metadata": {},
     "output_type": "execute_result"
    }
   ],
   "source": [
    "# range(start, stop, step)\n",
    "\n",
    "start = 10 #<-- start at 10\n",
    "stop = 30 #<-- stop at 30\n",
    "step = 2 #<-- take steps of 2 to get there (step stage is OPTIONAL)\n",
    "\n",
    "range(start, stop, step)"
   ]
  },
  {
   "cell_type": "code",
   "execution_count": 159,
   "id": "bda1d49d",
   "metadata": {},
   "outputs": [
    {
     "data": {
      "text/plain": [
       "[10, 12, 14, 16, 18, 20, 22, 24, 26, 28]"
      ]
     },
     "execution_count": 159,
     "metadata": {},
     "output_type": "execute_result"
    }
   ],
   "source": [
    "# LIST FUNCTION: list()\n",
    "\n",
    "list(range(start, stop, step))"
   ]
  },
  {
   "cell_type": "code",
   "execution_count": 169,
   "id": "45666061",
   "metadata": {},
   "outputs": [
    {
     "data": {
      "text/plain": [
       "['Hagrid', 'Ron', 'Harry', 'Voldermort', 'Hermione']"
      ]
     },
     "execution_count": 169,
     "metadata": {},
     "output_type": "execute_result"
    }
   ],
   "source": [
    "# .insert(index, value)\n",
    "\n",
    "names.insert(2, \"Harry\")\n",
    "\n",
    "names"
   ]
  },
  {
   "cell_type": "code",
   "execution_count": 170,
   "id": "ea118fab",
   "metadata": {},
   "outputs": [
    {
     "data": {
      "text/plain": [
       "['Hagrid', 'Ron', 'Voldermort', 'Hermione']"
      ]
     },
     "execution_count": 170,
     "metadata": {},
     "output_type": "execute_result"
    }
   ],
   "source": [
    "# .remove()\n",
    "\n",
    "names.remove(\"Harry\")\n",
    "\n",
    "names"
   ]
  },
  {
   "cell_type": "code",
   "execution_count": 172,
   "id": "d4c5205c",
   "metadata": {},
   "outputs": [],
   "source": [
    "# CHALLENGE\n",
    "\n",
    "#1) CREATE A LIST OF FIVE ELEMENTS, AND\n",
    "\n",
    "#a) PRINT THE LAST THREE ELEMENTS\n",
    "#b) INSERT TWO NEW ELEMENTS AT INDEX POSITION 2 AND APPEND ONE ELEMENT TO THE VERY END\n",
    "#c) REMOVE ONE ELEMENT OF YOUR CHOICE\n",
    "#d) PRINT EVERY OTHER ELEMENT IN YOUR LIST (I.E. STEPS OF TWO)"
   ]
  },
  {
   "cell_type": "code",
   "execution_count": 178,
   "id": "b2e05e14",
   "metadata": {},
   "outputs": [],
   "source": [
    "animals = [\"dog\", \"cat\", \"mouse\", \"bird\", \"chicken\"]"
   ]
  },
  {
   "cell_type": "code",
   "execution_count": 179,
   "id": "a376e35b",
   "metadata": {},
   "outputs": [
    {
     "data": {
      "text/plain": [
       "['mouse', 'bird', 'chicken']"
      ]
     },
     "execution_count": 179,
     "metadata": {},
     "output_type": "execute_result"
    }
   ],
   "source": [
    "animals[2:]"
   ]
  },
  {
   "cell_type": "code",
   "execution_count": 180,
   "id": "16ba90b0",
   "metadata": {},
   "outputs": [],
   "source": [
    "animals.insert(2, \"whale\")"
   ]
  },
  {
   "cell_type": "code",
   "execution_count": 181,
   "id": "794fd6af",
   "metadata": {},
   "outputs": [],
   "source": [
    "animals.insert(2, \"dolphin\")"
   ]
  },
  {
   "cell_type": "code",
   "execution_count": 182,
   "id": "b7b7fbf4",
   "metadata": {},
   "outputs": [
    {
     "data": {
      "text/plain": [
       "['dog', 'cat', 'dolphin', 'whale', 'mouse', 'bird', 'chicken']"
      ]
     },
     "execution_count": 182,
     "metadata": {},
     "output_type": "execute_result"
    }
   ],
   "source": [
    "animals"
   ]
  },
  {
   "cell_type": "code",
   "execution_count": 183,
   "id": "a75a6191",
   "metadata": {},
   "outputs": [],
   "source": [
    "animals.append(\"rat\")"
   ]
  },
  {
   "cell_type": "code",
   "execution_count": 184,
   "id": "b8745fda",
   "metadata": {},
   "outputs": [
    {
     "data": {
      "text/plain": [
       "['dog', 'cat', 'dolphin', 'whale', 'mouse', 'bird', 'chicken', 'rat']"
      ]
     },
     "execution_count": 184,
     "metadata": {},
     "output_type": "execute_result"
    }
   ],
   "source": [
    "animals"
   ]
  },
  {
   "cell_type": "code",
   "execution_count": 185,
   "id": "615fb126",
   "metadata": {},
   "outputs": [],
   "source": [
    "animals.remove(\"dolphin\")"
   ]
  },
  {
   "cell_type": "code",
   "execution_count": 186,
   "id": "4070682f",
   "metadata": {},
   "outputs": [
    {
     "data": {
      "text/plain": [
       "['dog', 'cat', 'whale', 'mouse', 'bird', 'chicken', 'rat']"
      ]
     },
     "execution_count": 186,
     "metadata": {},
     "output_type": "execute_result"
    }
   ],
   "source": [
    "animals"
   ]
  },
  {
   "cell_type": "code",
   "execution_count": 188,
   "id": "c53af212",
   "metadata": {},
   "outputs": [
    {
     "data": {
      "text/plain": [
       "['dog', 'whale', 'bird', 'rat']"
      ]
     },
     "execution_count": 188,
     "metadata": {},
     "output_type": "execute_result"
    }
   ],
   "source": [
    "animals[::2]"
   ]
  },
  {
   "cell_type": "markdown",
   "id": "b107e283",
   "metadata": {},
   "source": [
    "# Tuples"
   ]
  },
  {
   "cell_type": "code",
   "execution_count": 189,
   "id": "b5a24a98",
   "metadata": {},
   "outputs": [
    {
     "name": "stdout",
     "output_type": "stream",
     "text": [
      "(10, 20)\n"
     ]
    }
   ],
   "source": [
    "point = (10, 20)\n",
    "print(point)"
   ]
  },
  {
   "cell_type": "code",
   "execution_count": 190,
   "id": "2eaf7fec",
   "metadata": {},
   "outputs": [
    {
     "data": {
      "text/plain": [
       "tuple"
      ]
     },
     "execution_count": 190,
     "metadata": {},
     "output_type": "execute_result"
    }
   ],
   "source": [
    "type(point)"
   ]
  },
  {
   "cell_type": "code",
   "execution_count": 191,
   "id": "fc1cb242",
   "metadata": {},
   "outputs": [
    {
     "data": {
      "text/plain": [
       "20"
      ]
     },
     "execution_count": 191,
     "metadata": {},
     "output_type": "execute_result"
    }
   ],
   "source": [
    "# Indexing a tuple:\n",
    "\n",
    "point[1]"
   ]
  },
  {
   "cell_type": "markdown",
   "id": "b48e4d11",
   "metadata": {},
   "source": [
    "# Dictionaries"
   ]
  },
  {
   "cell_type": "code",
   "execution_count": 192,
   "id": "5045461d",
   "metadata": {},
   "outputs": [],
   "source": [
    "params = {\"key 1\" : 1.0, \"key 2\" : 2.0, \"key 3\" : 3.0}"
   ]
  },
  {
   "cell_type": "code",
   "execution_count": 193,
   "id": "d572f36a",
   "metadata": {},
   "outputs": [
    {
     "data": {
      "text/plain": [
       "dict"
      ]
     },
     "execution_count": 193,
     "metadata": {},
     "output_type": "execute_result"
    }
   ],
   "source": [
    "type(params)"
   ]
  },
  {
   "cell_type": "code",
   "execution_count": 194,
   "id": "407bb2e5",
   "metadata": {},
   "outputs": [
    {
     "name": "stdout",
     "output_type": "stream",
     "text": [
      "{'key 1': 1.0, 'key 2': 2.0, 'key 3': 3.0}\n"
     ]
    }
   ],
   "source": [
    "print(params)"
   ]
  },
  {
   "cell_type": "code",
   "execution_count": 197,
   "id": "624257fd",
   "metadata": {},
   "outputs": [
    {
     "data": {
      "text/plain": [
       "1.0"
      ]
     },
     "execution_count": 197,
     "metadata": {},
     "output_type": "execute_result"
    }
   ],
   "source": [
    "params[\"key 1\"]"
   ]
  },
  {
   "cell_type": "code",
   "execution_count": 199,
   "id": "5956fbca",
   "metadata": {},
   "outputs": [
    {
     "ename": "SyntaxError",
     "evalue": "invalid syntax (<ipython-input-199-0009959657b0>, line 1)",
     "output_type": "error",
     "traceback": [
      "\u001b[1;36m  File \u001b[1;32m\"<ipython-input-199-0009959657b0>\"\u001b[1;36m, line \u001b[1;32m1\u001b[0m\n\u001b[1;33m    params.append(\"Key 4\" : 4.0)\u001b[0m\n\u001b[1;37m                          ^\u001b[0m\n\u001b[1;31mSyntaxError\u001b[0m\u001b[1;31m:\u001b[0m invalid syntax\n"
     ]
    }
   ],
   "source": [
    "params.append(\"Key 4\" : 4.0)"
   ]
  },
  {
   "cell_type": "code",
   "execution_count": 205,
   "id": "74ffe579",
   "metadata": {},
   "outputs": [],
   "source": [
    "# ADDING a new key-value into our params dictionary:\n",
    "\n",
    "params[\"key 4\"] = 4.0"
   ]
  },
  {
   "cell_type": "code",
   "execution_count": 206,
   "id": "4cf3c6d5",
   "metadata": {},
   "outputs": [
    {
     "name": "stdout",
     "output_type": "stream",
     "text": [
      "{'key 1': 1.0, 'key 2': 2.0, 'key 3': 3.0, 'key 4': 4.0}\n"
     ]
    }
   ],
   "source": [
    "print(params)"
   ]
  },
  {
   "cell_type": "code",
   "execution_count": 207,
   "id": "236ac89c",
   "metadata": {},
   "outputs": [],
   "source": [
    "# REASSIGNING the value of a key-value pair in a dictionary:\n",
    "\n",
    "params[\"key 1\"] = 11.0"
   ]
  },
  {
   "cell_type": "code",
   "execution_count": 208,
   "id": "4871cdf9",
   "metadata": {},
   "outputs": [
    {
     "data": {
      "text/plain": [
       "{'key 1': 11.0, 'key 2': 2.0, 'key 3': 3.0, 'key 4': 4.0}"
      ]
     },
     "execution_count": 208,
     "metadata": {},
     "output_type": "execute_result"
    }
   ],
   "source": [
    "params"
   ]
  },
  {
   "cell_type": "code",
   "execution_count": 212,
   "id": "328481a3",
   "metadata": {},
   "outputs": [
    {
     "name": "stdout",
     "output_type": "stream",
     "text": [
      "key 1 11.0\n"
     ]
    }
   ],
   "source": [
    "# CONCATENATING using my dictionary:\n",
    "\n",
    "print(\"key 1\" + \" \" + str(params[\"key 1\"]))"
   ]
  },
  {
   "cell_type": "code",
   "execution_count": 216,
   "id": "ee8d4cd5",
   "metadata": {},
   "outputs": [
    {
     "data": {
      "text/plain": [
       "[('key 1', 11.0), ('key 2', 2.0), ('key 3', 3.0), ('key 4', 4.0)]"
      ]
     },
     "execution_count": 216,
     "metadata": {},
     "output_type": "execute_result"
    }
   ],
   "source": [
    "# ITEMISE elements of dictionary using .items()\n",
    "\n",
    "list(params.items())"
   ]
  },
  {
   "cell_type": "code",
   "execution_count": 217,
   "id": "5bf7cb47",
   "metadata": {},
   "outputs": [
    {
     "data": {
      "text/plain": [
       "3.0"
      ]
     },
     "execution_count": 217,
     "metadata": {},
     "output_type": "execute_result"
    }
   ],
   "source": [
    "# DELETE a key-value from a dictionary using .pop()\n",
    "\n",
    "params.pop(\"key 3\")"
   ]
  },
  {
   "cell_type": "code",
   "execution_count": 218,
   "id": "aa9cf6cc",
   "metadata": {},
   "outputs": [
    {
     "data": {
      "text/plain": [
       "{'key 1': 11.0, 'key 2': 2.0, 'key 4': 4.0}"
      ]
     },
     "execution_count": 218,
     "metadata": {},
     "output_type": "execute_result"
    }
   ],
   "source": [
    "params"
   ]
  }
 ],
 "metadata": {
  "kernelspec": {
   "display_name": "Python 3",
   "language": "python",
   "name": "python3"
  },
  "language_info": {
   "codemirror_mode": {
    "name": "ipython",
    "version": 3
   },
   "file_extension": ".py",
   "mimetype": "text/x-python",
   "name": "python",
   "nbconvert_exporter": "python",
   "pygments_lexer": "ipython3",
   "version": "3.8.8"
  }
 },
 "nbformat": 4,
 "nbformat_minor": 5
}
