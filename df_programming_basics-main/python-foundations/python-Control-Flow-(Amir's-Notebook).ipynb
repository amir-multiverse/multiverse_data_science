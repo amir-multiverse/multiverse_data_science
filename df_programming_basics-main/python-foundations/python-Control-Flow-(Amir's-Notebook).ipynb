{
 "cells": [
  {
   "cell_type": "markdown",
   "id": "142ca7b4",
   "metadata": {},
   "source": [
    "# `if` Statement"
   ]
  },
  {
   "cell_type": "code",
   "execution_count": 1,
   "id": "18407dad",
   "metadata": {},
   "outputs": [
    {
     "name": "stdout",
     "output_type": "stream",
     "text": [
      "The integer 1 is equal to the integer 1\n"
     ]
    }
   ],
   "source": [
    "if 1 == 1:\n",
    "    print(\"The integer 1 is equal to the integer 1\")"
   ]
  },
  {
   "cell_type": "code",
   "execution_count": 2,
   "id": "52b80b54",
   "metadata": {},
   "outputs": [],
   "source": [
    "if 1 == 2:\n",
    "    print(\"The integer 1 is equal to the integer 1\")"
   ]
  },
  {
   "cell_type": "code",
   "execution_count": 3,
   "id": "75ec3a41",
   "metadata": {},
   "outputs": [
    {
     "name": "stdout",
     "output_type": "stream",
     "text": [
      "-----------\n"
     ]
    }
   ],
   "source": [
    "if \"one\" == \"two\":\n",
    "    print(\"The string 'one' is equal to the string 'two'.\")\n",
    "    \n",
    "print(\"-----------\")"
   ]
  },
  {
   "cell_type": "markdown",
   "id": "c5eb20ff",
   "metadata": {},
   "source": [
    "# `if`... `else` Statements"
   ]
  },
  {
   "cell_type": "code",
   "execution_count": 4,
   "id": "d8042883",
   "metadata": {},
   "outputs": [
    {
     "name": "stdout",
     "output_type": "stream",
     "text": [
      "Begins with C\n"
     ]
    }
   ],
   "source": [
    "test_string = \"Christmas is here\"\n",
    "\n",
    "if test_string[0] == \"C\":\n",
    "    print(\"Begins with C\")\n",
    "else:\n",
    "    print(\"Does not begin with C\")"
   ]
  },
  {
   "cell_type": "code",
   "execution_count": 5,
   "id": "1abd8316",
   "metadata": {},
   "outputs": [
    {
     "name": "stdout",
     "output_type": "stream",
     "text": [
      "Does not begin with C\n"
     ]
    }
   ],
   "source": [
    "test_string = \"Santa is here\"\n",
    "\n",
    "if test_string[0] == \"C\":\n",
    "    print(\"Begins with C\")\n",
    "else:\n",
    "    print(\"Does not begin with C\")"
   ]
  },
  {
   "cell_type": "code",
   "execution_count": 6,
   "id": "9f8f54b7",
   "metadata": {},
   "outputs": [
    {
     "name": "stdout",
     "output_type": "stream",
     "text": [
      "50 >= 30.\n",
      "-----\n"
     ]
    }
   ],
   "source": [
    "if 50 < 30:\n",
    "    print(\"50 < 30.\")\n",
    "else:\n",
    "    print(\"50 >= 30.\")\n",
    "    \n",
    "print(\"-----\")\n",
    "\n",
    "# print(\"-----\") will run REGARDLESS of what happens in the if... else statement."
   ]
  },
  {
   "cell_type": "markdown",
   "id": "d78cdbf2",
   "metadata": {},
   "source": [
    "# `elif` Statements"
   ]
  },
  {
   "cell_type": "code",
   "execution_count": 7,
   "id": "6617a60c",
   "metadata": {},
   "outputs": [
    {
     "name": "stdout",
     "output_type": "stream",
     "text": [
      "Your health is average. Book an appointment in six months.\n"
     ]
    }
   ],
   "source": [
    "health = 55\n",
    "\n",
    "if health > 70:\n",
    "    print(\"Wow! You're super healthy!\")\n",
    "elif health > 40:\n",
    "    print(\"Your health is average. Book an appointment in six months.\")\n",
    "else:\n",
    "    print(\"Uh oh, you are not that healthy. Please see a doctor.\")"
   ]
  },
  {
   "cell_type": "code",
   "execution_count": 8,
   "id": "1897d4ee",
   "metadata": {},
   "outputs": [
    {
     "name": "stdout",
     "output_type": "stream",
     "text": [
      "Your health is average. Book an appointment in six months.\n"
     ]
    }
   ],
   "source": [
    "health = 50\n",
    "\n",
    "if health > 70:\n",
    "    print(\"Wow! You're super healthy!\")\n",
    "elif health > 40:\n",
    "    print(\"Your health is average. Book an appointment in six months.\")\n",
    "elif health >= 1:\n",
    "    print(\"Uh oh, you are not that healthy. Please see a doctor.\")\n",
    "else:\n",
    "    print(\"Please see a Coroner.\")"
   ]
  },
  {
   "cell_type": "markdown",
   "id": "e2a36349",
   "metadata": {},
   "source": [
    "# `for` Loop"
   ]
  },
  {
   "cell_type": "code",
   "execution_count": 9,
   "id": "e047e8f4",
   "metadata": {},
   "outputs": [],
   "source": [
    "# For each individual object in the list\n",
    "    # perform task_A on said object.\n",
    "    # Once task_A has been completed, move to next object in the list."
   ]
  },
  {
   "cell_type": "code",
   "execution_count": 10,
   "id": "f72eaa4d",
   "metadata": {},
   "outputs": [],
   "source": [
    "names = [\"Hagrid\", \"Ron\", \"Voldermort\"]"
   ]
  },
  {
   "cell_type": "code",
   "execution_count": 11,
   "id": "cd4458e1",
   "metadata": {},
   "outputs": [
    {
     "data": {
      "text/plain": [
       "['Hagrid', 'Ron', 'Voldermort']"
      ]
     },
     "execution_count": 11,
     "metadata": {},
     "output_type": "execute_result"
    }
   ],
   "source": [
    "names"
   ]
  },
  {
   "cell_type": "code",
   "execution_count": 12,
   "id": "a03659c5",
   "metadata": {},
   "outputs": [
    {
     "data": {
      "text/plain": [
       "list"
      ]
     },
     "execution_count": 12,
     "metadata": {},
     "output_type": "execute_result"
    }
   ],
   "source": [
    "type(names)"
   ]
  },
  {
   "cell_type": "code",
   "execution_count": 13,
   "id": "0db5d76f",
   "metadata": {},
   "outputs": [
    {
     "name": "stdout",
     "output_type": "stream",
     "text": [
      "Hagrid Is Awesome!\n",
      "Ron Is Awesome!\n",
      "Voldermort Is Awesome!\n"
     ]
    }
   ],
   "source": [
    "for name in names: #<-- basically saying: for ITEM in names\n",
    "    print(name + \" Is Awesome!\") #<-- print ITEM (aka name)"
   ]
  },
  {
   "cell_type": "code",
   "execution_count": 14,
   "id": "f3c57bc2",
   "metadata": {},
   "outputs": [
    {
     "name": "stdout",
     "output_type": "stream",
     "text": [
      "Hagrid Is Awesome!\n",
      "Ron Is Awesome!\n",
      "He Who Must Not Be Named is not so awesome.\n"
     ]
    }
   ],
   "source": [
    "for name in names:\n",
    "    if name == \"Voldermort\":\n",
    "        print(\"He Who Must Not Be Named\" + \" is not so awesome.\")\n",
    "    else:\n",
    "        print(name + \" Is Awesome!\")"
   ]
  },
  {
   "cell_type": "markdown",
   "id": "65d06912",
   "metadata": {},
   "source": [
    "***\n",
    "\n",
    "## ACTIVITY\n",
    "\n",
    "**Write your own `for` loop using `if` and `else` statements. If you're feeling keen, add an `elif` statement in there too!**"
   ]
  },
  {
   "cell_type": "code",
   "execution_count": 15,
   "id": "bb5ddf06",
   "metadata": {},
   "outputs": [
    {
     "data": {
      "text/plain": [
       "['Hagrid', 'Ron', 'Voldermort']"
      ]
     },
     "execution_count": 15,
     "metadata": {},
     "output_type": "execute_result"
    }
   ],
   "source": [
    "names"
   ]
  },
  {
   "cell_type": "code",
   "execution_count": 16,
   "id": "0980b4ae",
   "metadata": {},
   "outputs": [],
   "source": [
    "names.insert(2, \"Harry\")"
   ]
  },
  {
   "cell_type": "code",
   "execution_count": 17,
   "id": "39fc89b7",
   "metadata": {},
   "outputs": [
    {
     "data": {
      "text/plain": [
       "['Hagrid', 'Ron', 'Harry', 'Voldermort']"
      ]
     },
     "execution_count": 17,
     "metadata": {},
     "output_type": "execute_result"
    }
   ],
   "source": [
    "names"
   ]
  },
  {
   "cell_type": "markdown",
   "id": "16ff2552",
   "metadata": {},
   "source": [
    "### _Yesmita's Example:_"
   ]
  },
  {
   "cell_type": "code",
   "execution_count": 18,
   "id": "1c9b80a1",
   "metadata": {},
   "outputs": [
    {
     "name": "stdout",
     "output_type": "stream",
     "text": [
      "Hagrid is a Giant and knows his dragons well.\n",
      "Ron is a wizard!\n",
      "Harry is a wizard!\n",
      "Voldermort is a wizard!\n"
     ]
    }
   ],
   "source": [
    "for name in names:\n",
    "    if name == \"Hagrid\":\n",
    "        print (\"Hagrid is a Giant\" + \" and knows his dragons well.\")\n",
    "    else:\n",
    "            print(name + \" is a wizard!\")"
   ]
  },
  {
   "cell_type": "markdown",
   "id": "c0fd6775",
   "metadata": {},
   "source": [
    "### _Lucy M's Example:_"
   ]
  },
  {
   "cell_type": "code",
   "execution_count": 19,
   "id": "f46f19bc",
   "metadata": {},
   "outputs": [],
   "source": [
    "Christmas_Dinner = [\"Turkey\", \"Roast Potatoes\", \"Brussel Sprouts\", \"Carrots\", \"Gravy\", \"Pigs In Blankets\"]"
   ]
  },
  {
   "cell_type": "code",
   "execution_count": 20,
   "id": "7d15a371",
   "metadata": {},
   "outputs": [
    {
     "name": "stdout",
     "output_type": "stream",
     "text": [
      "Turkey Dry!!!\n",
      "Roast Potatoes Yum!!!\n",
      "Brussel Sprouts Yuk!!!\n",
      "Carrots Yum!!!\n",
      "Gravy Yum!!!\n",
      "Pigs In Blankets Yum!!!\n"
     ]
    }
   ],
   "source": [
    "for food in Christmas_Dinner:\n",
    "    if food == \"Brussel Sprouts\":\n",
    "        print(food + \" Yuk!!!\") \n",
    "    elif food == \"Turkey\":\n",
    "        print(food + \" Dry!!!\")\n",
    "    else:\n",
    "        print(food + \" Yum!!!\")"
   ]
  },
  {
   "cell_type": "markdown",
   "id": "43db78d3",
   "metadata": {},
   "source": [
    "***"
   ]
  },
  {
   "cell_type": "code",
   "execution_count": 21,
   "id": "68ee61c4",
   "metadata": {},
   "outputs": [
    {
     "name": "stdout",
     "output_type": "stream",
     "text": [
      "0\n",
      "1\n",
      "2\n",
      "3\n",
      "4\n",
      "5\n",
      "6\n",
      "7\n",
      "8\n",
      "9\n",
      "10\n",
      "11\n",
      "12\n",
      "13\n",
      "14\n"
     ]
    }
   ],
   "source": [
    "# Create a for loop that iterates from number 1 to number 15:\n",
    "\n",
    "for num in range(15):\n",
    "    print(num)"
   ]
  },
  {
   "cell_type": "code",
   "execution_count": 22,
   "id": "cecfafa4",
   "metadata": {},
   "outputs": [
    {
     "name": "stdout",
     "output_type": "stream",
     "text": [
      "1\n",
      "2\n",
      "3\n",
      "4\n",
      "5\n",
      "6\n",
      "7\n",
      "8\n",
      "9\n",
      "10\n",
      "11\n",
      "12\n",
      "13\n",
      "14\n",
      "15\n"
     ]
    }
   ],
   "source": [
    "for num in range(1,16):\n",
    "    print(num)"
   ]
  },
  {
   "cell_type": "code",
   "execution_count": 23,
   "id": "6327403b",
   "metadata": {},
   "outputs": [
    {
     "name": "stdout",
     "output_type": "stream",
     "text": [
      "1 odd\n",
      "2 even\n",
      "3 odd\n",
      "4 even\n",
      "5 odd\n",
      "6 even\n",
      "7 odd\n",
      "8 even\n",
      "9 odd\n",
      "10 even\n",
      "11 odd\n",
      "12 even\n",
      "13 odd\n",
      "14 even\n",
      "15 odd\n"
     ]
    }
   ],
   "source": [
    "# Iterate from 1 to 15, printing whether the number is ODD or EVEN\n",
    "\n",
    "for num in range(1,16):\n",
    "    print(num, [\"even\",\"odd\"][num % 2])"
   ]
  },
  {
   "cell_type": "markdown",
   "id": "626a2dc9",
   "metadata": {},
   "source": [
    "## Fizzbuzz Coding Challenge:"
   ]
  },
  {
   "cell_type": "code",
   "execution_count": 24,
   "id": "e092ea37",
   "metadata": {},
   "outputs": [],
   "source": [
    "#1) If a number is divisible by 3, print \"fizz\"\n",
    "#2) If a number is divisible by 5, print \"buzz\"\n",
    "#3) If a number is divisible by 3 AND 5, print \"fizzbuzz\"\n",
    "#4) Otherwise, just print the number."
   ]
  },
  {
   "cell_type": "code",
   "execution_count": 25,
   "id": "bc0f95f1",
   "metadata": {},
   "outputs": [
    {
     "name": "stdout",
     "output_type": "stream",
     "text": [
      "1\n",
      "2\n",
      "fizz\n",
      "4\n",
      "buzz\n",
      "fizz\n",
      "7\n",
      "8\n",
      "fizz\n",
      "buzz\n",
      "11\n",
      "fizz\n",
      "13\n",
      "14\n",
      "fizzbuzz\n",
      "16\n",
      "17\n",
      "fizz\n",
      "19\n",
      "buzz\n",
      "fizz\n",
      "22\n",
      "23\n",
      "fizz\n",
      "buzz\n",
      "26\n",
      "fizz\n",
      "28\n",
      "29\n",
      "fizzbuzz\n"
     ]
    }
   ],
   "source": [
    "for num in range(1,31): #<-- from 1, up to but NOT including 31 (i.e. 1-30)\n",
    "    if num % 15 == 0:\n",
    "        print(\"fizzbuzz\")\n",
    "    elif num % 5 == 0:\n",
    "        print(\"buzz\")\n",
    "    elif num % 3 == 0:\n",
    "        print(\"fizz\")\n",
    "    else:\n",
    "        print(num)"
   ]
  },
  {
   "cell_type": "markdown",
   "id": "fb091e2e",
   "metadata": {},
   "source": [
    "# try / except"
   ]
  },
  {
   "cell_type": "code",
   "execution_count": 26,
   "id": "598a1c42",
   "metadata": {},
   "outputs": [
    {
     "ename": "ZeroDivisionError",
     "evalue": "division by zero",
     "output_type": "error",
     "traceback": [
      "\u001b[1;31m---------------------------------------------------------------------------\u001b[0m",
      "\u001b[1;31mZeroDivisionError\u001b[0m                         Traceback (most recent call last)",
      "\u001b[1;32m<ipython-input-26-bc757c3fda29>\u001b[0m in \u001b[0;36m<module>\u001b[1;34m\u001b[0m\n\u001b[1;32m----> 1\u001b[1;33m \u001b[1;36m1\u001b[0m \u001b[1;33m/\u001b[0m \u001b[1;36m0\u001b[0m\u001b[1;33m\u001b[0m\u001b[1;33m\u001b[0m\u001b[0m\n\u001b[0m",
      "\u001b[1;31mZeroDivisionError\u001b[0m: division by zero"
     ]
    }
   ],
   "source": [
    "1 / 0"
   ]
  },
  {
   "cell_type": "code",
   "execution_count": null,
   "id": "7f619437",
   "metadata": {},
   "outputs": [],
   "source": [
    "a = [1, 2, 3, 0, 4]"
   ]
  },
  {
   "cell_type": "code",
   "execution_count": null,
   "id": "e3834d8a",
   "metadata": {},
   "outputs": [],
   "source": [
    "for num in a:\n",
    "    try:\n",
    "        print(1/num)\n",
    "    except:\n",
    "        print(\"Sorry, can't divide by zero.\")"
   ]
  },
  {
   "cell_type": "code",
   "execution_count": 34,
   "id": "80453bf1",
   "metadata": {},
   "outputs": [
    {
     "name": "stdout",
     "output_type": "stream",
     "text": [
      "Type a number: 50\n"
     ]
    }
   ],
   "source": [
    "# USE CASE:\n",
    "\n",
    "try:\n",
    "    float(input(\"Type a number: \"))\n",
    "except:\n",
    "    print(\"Please type a number\")"
   ]
  },
  {
   "cell_type": "code",
   "execution_count": 29,
   "id": "392f33cf",
   "metadata": {},
   "outputs": [],
   "source": [
    "# One More Try Except Example:"
   ]
  },
  {
   "cell_type": "code",
   "execution_count": 30,
   "id": "a6f1ae47",
   "metadata": {},
   "outputs": [],
   "source": [
    "corrupted = ['!1', '23.1', '23.4.5', '??12', '.12', '12-12', '-11.1', '0-1', '*12.1', '1000']"
   ]
  },
  {
   "cell_type": "code",
   "execution_count": 31,
   "id": "27010ed1",
   "metadata": {},
   "outputs": [],
   "source": [
    "new_list = [] #<-- creates a new, empty list"
   ]
  },
  {
   "cell_type": "code",
   "execution_count": 32,
   "id": "37dfc293",
   "metadata": {},
   "outputs": [],
   "source": [
    "for num in corrupted:\n",
    "    try:\n",
    "        new_list.append(float(num))\n",
    "    except:\n",
    "        pass #<-- if we don't want it to do anything with 'except', then can use keyword 'pass' to suggest code moves on!"
   ]
  },
  {
   "cell_type": "code",
   "execution_count": 33,
   "id": "be6d2f78",
   "metadata": {},
   "outputs": [
    {
     "data": {
      "text/plain": [
       "[23.1, 0.12, -11.1, 1000.0]"
      ]
     },
     "execution_count": 33,
     "metadata": {},
     "output_type": "execute_result"
    }
   ],
   "source": [
    "new_list"
   ]
  },
  {
   "cell_type": "markdown",
   "id": "ea338438",
   "metadata": {},
   "source": [
    "# Functions"
   ]
  },
  {
   "cell_type": "code",
   "execution_count": 40,
   "id": "19c0f259",
   "metadata": {},
   "outputs": [
    {
     "name": "stdout",
     "output_type": "stream",
     "text": [
      "10.0\n"
     ]
    }
   ],
   "source": [
    "# Area of a Triangle\n",
    "\n",
    "area = 0.5 * 5 * 4\n",
    "print(area)\n",
    "\n",
    "# Functions makes this more repeatable and efficient"
   ]
  },
  {
   "cell_type": "markdown",
   "id": "dce1378c",
   "metadata": {},
   "source": [
    "```python\n",
    "area = 0.5 * height * width\n",
    "```\n",
    "\n",
    "- Height and width are not defined.\n",
    "- What a function does is turns this into a repeatable code you can repeat again and again."
   ]
  },
  {
   "cell_type": "code",
   "execution_count": 43,
   "id": "dba7a70d",
   "metadata": {},
   "outputs": [],
   "source": [
    "def triangle_area(height, width): #<-- don't forget the colon, important for intendation.\n",
    "    area = 0.5 * height * width\n",
    "    return area #<-- so that function knows when to end a piece of code"
   ]
  },
  {
   "cell_type": "code",
   "execution_count": 44,
   "id": "c7dfdaa1",
   "metadata": {},
   "outputs": [
    {
     "data": {
      "text/plain": [
       "10.0"
      ]
     },
     "execution_count": 44,
     "metadata": {},
     "output_type": "execute_result"
    }
   ],
   "source": [
    "triangle_area(5, 4)"
   ]
  },
  {
   "cell_type": "code",
   "execution_count": 45,
   "id": "ea473f65",
   "metadata": {},
   "outputs": [
    {
     "data": {
      "text/plain": [
       "770.5"
      ]
     },
     "execution_count": 45,
     "metadata": {},
     "output_type": "execute_result"
    }
   ],
   "source": [
    "triangle_area(67, 23)"
   ]
  },
  {
   "cell_type": "markdown",
   "id": "10cf667e",
   "metadata": {},
   "source": [
    "**Therefore, this function saves having to write the long-form formula over and over again!**"
   ]
  },
  {
   "cell_type": "code",
   "execution_count": 53,
   "id": "90e34a9c",
   "metadata": {},
   "outputs": [],
   "source": [
    "# Simple functions in Excel, demo'd in Python:\n",
    "\n",
    "# SUM <-- in Excel, adds all of the values in a column you've specified.\n",
    "# How do we do this in Python?\n",
    "\n",
    "def sum(numbers):\n",
    "    total = 0\n",
    "    for i in numbers:\n",
    "        total += i\n",
    "    return total"
   ]
  },
  {
   "cell_type": "code",
   "execution_count": 54,
   "id": "c95b7a30",
   "metadata": {},
   "outputs": [
    {
     "data": {
      "text/plain": [
       "18"
      ]
     },
     "execution_count": 54,
     "metadata": {},
     "output_type": "execute_result"
    }
   ],
   "source": [
    "sum((5, 6, 7))"
   ]
  },
  {
   "cell_type": "code",
   "execution_count": 56,
   "id": "1b39eac9",
   "metadata": {},
   "outputs": [
    {
     "data": {
      "text/plain": [
       "134"
      ]
     },
     "execution_count": 56,
     "metadata": {},
     "output_type": "execute_result"
    }
   ],
   "source": [
    "column = [1, 7, 99, 27]\n",
    "sum(column)"
   ]
  },
  {
   "cell_type": "markdown",
   "id": "61239276",
   "metadata": {},
   "source": [
    "# While Loops"
   ]
  },
  {
   "cell_type": "code",
   "execution_count": 58,
   "id": "c506303c",
   "metadata": {},
   "outputs": [
    {
     "name": "stdout",
     "output_type": "stream",
     "text": [
      "hello\n",
      "hello\n",
      "hello\n",
      "hello\n",
      "hello\n",
      "hello\n",
      "hello\n",
      "hello\n",
      "hello\n",
      "hello\n"
     ]
    }
   ],
   "source": [
    "condition = 10\n",
    "while condition < 20:\n",
    "    print(\"hello\")\n",
    "    condition += 1"
   ]
  },
  {
   "cell_type": "code",
   "execution_count": 1,
   "id": "de8c70db",
   "metadata": {},
   "outputs": [
    {
     "name": "stdout",
     "output_type": "stream",
     "text": [
      "What is my favourite animal? dog\n",
      "What is my favourite animal? killer whale\n",
      "What is my favourite animal? eagle\n",
      "What is my favourite animal? cat\n",
      "while loop has ended\n"
     ]
    }
   ],
   "source": [
    "status = False\n",
    "while status is False:\n",
    "    answer = str(input(\"What is my favourite animal? \")).lower() #<-- turns any string input into lower case so it matches our answer.\n",
    "    if answer == \"cat\":\n",
    "        print(\"while loop has ended\")\n",
    "        status = True #<-- ends the while loop"
   ]
  },
  {
   "cell_type": "markdown",
   "id": "bc86913f",
   "metadata": {},
   "source": [
    "# List and Dictionary Comprehensions"
   ]
  },
  {
   "cell_type": "code",
   "execution_count": 3,
   "id": "97c2ffaf",
   "metadata": {},
   "outputs": [],
   "source": [
    "sales_pounds = [300, 500, 200, 250, 860, 100, 120]\n",
    "\n",
    "sales_dollars = [sale * 1.5 for sale in sales_pounds]"
   ]
  },
  {
   "cell_type": "code",
   "execution_count": 4,
   "id": "9a42a3ad",
   "metadata": {},
   "outputs": [
    {
     "name": "stdout",
     "output_type": "stream",
     "text": [
      "[300, 500, 200, 250, 860, 100, 120]\n",
      "[450.0, 750.0, 300.0, 375.0, 1290.0, 150.0, 180.0]\n"
     ]
    }
   ],
   "source": [
    "print(sales_pounds)\n",
    "print(sales_dollars)"
   ]
  },
  {
   "cell_type": "markdown",
   "id": "fce8658d",
   "metadata": {},
   "source": [
    "**Therefore, this:**\n",
    "\n",
    "```python\n",
    "sales_dollars = [sale * 1.5 for sale in sales_pounds]\n",
    "```\n",
    "**is a shorter, cleaner, more efficient version of this:**\n",
    "\n",
    "```python\n",
    "# create an empty list \n",
    "sales_dollars = []\n",
    "\n",
    "# loop through the sales_pound list\n",
    "for sale in sales_pounds:\n",
    "    # multiply by 1.5 and append to sales_dollar\n",
    "    new_sale = sale * 1.5\n",
    "    \n",
    "    sales_dollars.append(new_sale)\n",
    "```\n",
    "\n",
    "**However, you may choose the longer form version if, say, you're showing your code to somebody for the first time (e.g. apprenticeship assessor).**"
   ]
  },
  {
   "cell_type": "code",
   "execution_count": 6,
   "id": "1221f1eb",
   "metadata": {},
   "outputs": [
    {
     "name": "stdout",
     "output_type": "stream",
     "text": [
      "[450.0, 750.0, 300.0, 375.0, 1290.0, 114.99999999999999, 138.0]\n"
     ]
    }
   ],
   "source": [
    "conditional_sales = [sale * 1.5 if sale > 150 else sale * 1.15 for sale in sales_pounds]\n",
    "print(conditional_sales)"
   ]
  },
  {
   "cell_type": "code",
   "execution_count": 7,
   "id": "d6817149",
   "metadata": {},
   "outputs": [
    {
     "data": {
      "text/plain": [
       "{'cat': 3, 'dog': 3, 'hippo': 5, 'orca': 4}"
      ]
     },
     "execution_count": 7,
     "metadata": {},
     "output_type": "execute_result"
    }
   ],
   "source": [
    "animals = [\"cat\", \"dog\", \"hippo\", \"orca\"]\n",
    "animal_length = {animal:len(animal) for animal in animals}\n",
    "animal_length"
   ]
  },
  {
   "cell_type": "code",
   "execution_count": 8,
   "id": "b2352655",
   "metadata": {},
   "outputs": [
    {
     "name": "stdout",
     "output_type": "stream",
     "text": [
      "{'cat': 3, 'dog': 3, 'hippo': 5, 'orca': 4}\n"
     ]
    }
   ],
   "source": [
    "animal_length={}\n",
    "for animal in animals:\n",
    "    animal_length[animal]=len(animal)\n",
    "    \n",
    "print(animal_length)"
   ]
  },
  {
   "cell_type": "code",
   "execution_count": null,
   "id": "42e508c4",
   "metadata": {},
   "outputs": [],
   "source": []
  }
 ],
 "metadata": {
  "kernelspec": {
   "display_name": "Python 3",
   "language": "python",
   "name": "python3"
  },
  "language_info": {
   "codemirror_mode": {
    "name": "ipython",
    "version": 3
   },
   "file_extension": ".py",
   "mimetype": "text/x-python",
   "name": "python",
   "nbconvert_exporter": "python",
   "pygments_lexer": "ipython3",
   "version": "3.8.8"
  }
 },
 "nbformat": 4,
 "nbformat_minor": 5
}
